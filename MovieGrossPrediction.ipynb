{
  "cells": [
    {
      "attachments": {},
      "cell_type": "markdown",
      "metadata": {
        "id": "Jz3KfnJgQ_wh"
      },
      "source": [
        "# Movie Collection Prediction"
      ]
    },
    {
      "attachments": {},
      "cell_type": "markdown",
      "metadata": {
        "id": "56-wMhLSRFDQ"
      },
      "source": [
        "## Import Header Pakages"
      ]
    },
    {
      "cell_type": "code",
      "execution_count": 1,
      "metadata": {
        "id": "SbQTAcWvrryg"
      },
      "outputs": [],
      "source": [
        "\n",
        "import numpy as np\n",
        "from sklearn.model_selection import train_test_split\n",
        "from sklearn.preprocessing import LabelEncoder\n",
        "from sklearn.ensemble import RandomForestRegressor\n",
        "from sklearn.ensemble import BaggingRegressor, AdaBoostRegressor, VotingRegressor\n",
        "from sklearn.metrics import mean_squared_error\n"
      ]
    },
    {
      "cell_type": "code",
      "execution_count": 2,
      "metadata": {},
      "outputs": [],
      "source": [
        "\n",
        "import pandas as pd"
      ]
    },
    {
      "attachments": {},
      "cell_type": "markdown",
      "metadata": {
        "id": "BPz9jeJARMq4"
      },
      "source": [
        "## Dataset"
      ]
    },
    {
      "cell_type": "code",
      "execution_count": 3,
      "metadata": {
        "id": "UxgJZg6Xrryo"
      },
      "outputs": [],
      "source": [
        "# Load the dataset\n",
        "df = pd.read_csv(\"C:/Users/cyril/OneDrive/Pictures/SEM 6/assignment/Web Mining/Project/Works/movie_metadata.csv/movie_metadata.csv\")\n",
        "\n"
      ]
    },
    {
      "attachments": {},
      "cell_type": "markdown",
      "metadata": {
        "id": "B4NCJ4mkRP4J"
      },
      "source": [
        "## Cleaning Data"
      ]
    },
    {
      "cell_type": "code",
      "execution_count": 4,
      "metadata": {
        "id": "MN-g6Rm1rryp"
      },
      "outputs": [],
      "source": [
        "# Drop irrelevant columns\n",
        "df = df.drop(['color', 'movie_imdb_link'], axis=1)\n",
        "\n"
      ]
    },
    {
      "cell_type": "code",
      "execution_count": 5,
      "metadata": {
        "id": "DS2jTtZjrryq"
      },
      "outputs": [],
      "source": [
        "#numeric values \n",
        "\n",
        "data_numeric = df.select_dtypes(include=[np.number]) # type: ignore\n",
        "numeric_columns = data_numeric.columns.values\n",
        "\n",
        "#non-numeric values\n",
        "\n",
        "data_nonnumeric = df.select_dtypes(exclude=[np.number]) # type: ignore\n",
        "nonnumeric_columns = data_nonnumeric.columns.values"
      ]
    },
    {
      "cell_type": "code",
      "execution_count": 6,
      "metadata": {
        "id": "wemqwLDJrryr"
      },
      "outputs": [
        {
          "name": "stdout",
          "output_type": "stream",
          "text": [
            "<class 'pandas.core.frame.DataFrame'>\n",
            "RangeIndex: 5043 entries, 0 to 5042\n",
            "Data columns (total 26 columns):\n",
            " #   Column                     Non-Null Count  Dtype  \n",
            "---  ------                     --------------  -----  \n",
            " 0   director_name              4939 non-null   object \n",
            " 1   num_critic_for_reviews     4993 non-null   float64\n",
            " 2   duration                   5028 non-null   float64\n",
            " 3   director_facebook_likes    4939 non-null   float64\n",
            " 4   actor_3_facebook_likes     5020 non-null   float64\n",
            " 5   actor_2_name               5030 non-null   object \n",
            " 6   actor_1_facebook_likes     5036 non-null   float64\n",
            " 7   gross                      4159 non-null   float64\n",
            " 8   genres                     5043 non-null   object \n",
            " 9   actor_1_name               5036 non-null   object \n",
            " 10  movie_title                5043 non-null   object \n",
            " 11  num_voted_users            5043 non-null   int64  \n",
            " 12  cast_total_facebook_likes  5043 non-null   int64  \n",
            " 13  actor_3_name               5020 non-null   object \n",
            " 14  facenumber_in_poster       5030 non-null   float64\n",
            " 15  plot_keywords              4890 non-null   object \n",
            " 16  num_user_for_reviews       5022 non-null   float64\n",
            " 17  language                   5031 non-null   object \n",
            " 18  country                    5038 non-null   object \n",
            " 19  content_rating             4740 non-null   object \n",
            " 20  budget                     4551 non-null   float64\n",
            " 21  title_year                 4935 non-null   float64\n",
            " 22  actor_2_facebook_likes     5030 non-null   float64\n",
            " 23  imdb_score                 5043 non-null   float64\n",
            " 24  aspect_ratio               4714 non-null   float64\n",
            " 25  movie_facebook_likes       5043 non-null   int64  \n",
            "dtypes: float64(13), int64(3), object(10)\n",
            "memory usage: 1.0+ MB\n"
          ]
        }
      ],
      "source": [
        "df.info()"
      ]
    },
    {
      "cell_type": "code",
      "execution_count": 7,
      "metadata": {
        "id": "hsHm2n8Jrryt"
      },
      "outputs": [],
      "source": [
        "#Clean remaining  Numerical columns\n",
        "\n",
        "for col in numeric_columns:\n",
        "    missing = df[col].isnull()\n",
        "    num_missing = np.sum(missing)\n",
        "    if num_missing>0:\n",
        "        mid = df[col].median()\n",
        "        df[col] = df[col].fillna(mid)"
      ]
    },
    {
      "cell_type": "code",
      "execution_count": 8,
      "metadata": {
        "id": "dWW2vjGqrryv"
      },
      "outputs": [],
      "source": [
        "#clean the remaining missing values in non-numeric columns\n",
        "\n",
        "for col in nonnumeric_columns:\n",
        "    missing1 = df[col].isnull()\n",
        "    num_missing1 = np.sum(missing1)\n",
        "    if num_missing1>0:\n",
        "        mod = df[col].describe()['top']\n",
        "        df[col] = df[col].fillna(mod) \n"
      ]
    },
    {
      "cell_type": "code",
      "execution_count": 9,
      "metadata": {
        "id": "pzTMqJp_rryx"
      },
      "outputs": [],
      "source": [
        "# Split the dataset into training and testing sets\n",
        "y = df['gross']\n",
        "df = df.drop([ 'plot_keywords','director_name','title_year','content_rating','gross','duration','aspect_ratio' ,'movie_title','country','actor_2_name','actor_3_name','plot_keywords','actor_1_name','facenumber_in_poster','num_critic_for_reviews'], axis=1)\n",
        "\n",
        "\n"
      ]
    },
    {
      "cell_type": "code",
      "execution_count": 10,
      "metadata": {
        "id": "NtuNoMjHrryz"
      },
      "outputs": [
        {
          "name": "stdout",
          "output_type": "stream",
          "text": [
            "<class 'pandas.core.frame.DataFrame'>\n",
            "RangeIndex: 5043 entries, 0 to 5042\n",
            "Data columns (total 12 columns):\n",
            " #   Column                     Non-Null Count  Dtype  \n",
            "---  ------                     --------------  -----  \n",
            " 0   director_facebook_likes    5043 non-null   float64\n",
            " 1   actor_3_facebook_likes     5043 non-null   float64\n",
            " 2   actor_1_facebook_likes     5043 non-null   float64\n",
            " 3   genres                     5043 non-null   object \n",
            " 4   num_voted_users            5043 non-null   int64  \n",
            " 5   cast_total_facebook_likes  5043 non-null   int64  \n",
            " 6   num_user_for_reviews       5043 non-null   float64\n",
            " 7   language                   5043 non-null   object \n",
            " 8   budget                     5043 non-null   float64\n",
            " 9   actor_2_facebook_likes     5043 non-null   float64\n",
            " 10  imdb_score                 5043 non-null   float64\n",
            " 11  movie_facebook_likes       5043 non-null   int64  \n",
            "dtypes: float64(7), int64(3), object(2)\n",
            "memory usage: 472.9+ KB\n"
          ]
        }
      ],
      "source": [
        "df.info()"
      ]
    },
    {
      "cell_type": "code",
      "execution_count": 11,
      "metadata": {
        "id": "u91MEdOXRETw"
      },
      "outputs": [
        {
          "data": {
            "text/html": [
              "<div>\n",
              "<style scoped>\n",
              "    .dataframe tbody tr th:only-of-type {\n",
              "        vertical-align: middle;\n",
              "    }\n",
              "\n",
              "    .dataframe tbody tr th {\n",
              "        vertical-align: top;\n",
              "    }\n",
              "\n",
              "    .dataframe thead th {\n",
              "        text-align: right;\n",
              "    }\n",
              "</style>\n",
              "<table border=\"1\" class=\"dataframe\">\n",
              "  <thead>\n",
              "    <tr style=\"text-align: right;\">\n",
              "      <th></th>\n",
              "      <th>director_facebook_likes</th>\n",
              "      <th>actor_3_facebook_likes</th>\n",
              "      <th>actor_1_facebook_likes</th>\n",
              "      <th>genres</th>\n",
              "      <th>num_voted_users</th>\n",
              "      <th>cast_total_facebook_likes</th>\n",
              "      <th>num_user_for_reviews</th>\n",
              "      <th>language</th>\n",
              "      <th>budget</th>\n",
              "      <th>actor_2_facebook_likes</th>\n",
              "      <th>imdb_score</th>\n",
              "      <th>movie_facebook_likes</th>\n",
              "    </tr>\n",
              "  </thead>\n",
              "  <tbody>\n",
              "    <tr>\n",
              "      <th>0</th>\n",
              "      <td>0.0</td>\n",
              "      <td>855.0</td>\n",
              "      <td>1000.0</td>\n",
              "      <td>Action|Adventure|Fantasy|Sci-Fi</td>\n",
              "      <td>886204</td>\n",
              "      <td>4834</td>\n",
              "      <td>3054.0</td>\n",
              "      <td>English</td>\n",
              "      <td>237000000.0</td>\n",
              "      <td>936.0</td>\n",
              "      <td>7.9</td>\n",
              "      <td>33000</td>\n",
              "    </tr>\n",
              "    <tr>\n",
              "      <th>1</th>\n",
              "      <td>563.0</td>\n",
              "      <td>1000.0</td>\n",
              "      <td>40000.0</td>\n",
              "      <td>Action|Adventure|Fantasy</td>\n",
              "      <td>471220</td>\n",
              "      <td>48350</td>\n",
              "      <td>1238.0</td>\n",
              "      <td>English</td>\n",
              "      <td>300000000.0</td>\n",
              "      <td>5000.0</td>\n",
              "      <td>7.1</td>\n",
              "      <td>0</td>\n",
              "    </tr>\n",
              "    <tr>\n",
              "      <th>2</th>\n",
              "      <td>0.0</td>\n",
              "      <td>161.0</td>\n",
              "      <td>11000.0</td>\n",
              "      <td>Action|Adventure|Thriller</td>\n",
              "      <td>275868</td>\n",
              "      <td>11700</td>\n",
              "      <td>994.0</td>\n",
              "      <td>English</td>\n",
              "      <td>245000000.0</td>\n",
              "      <td>393.0</td>\n",
              "      <td>6.8</td>\n",
              "      <td>85000</td>\n",
              "    </tr>\n",
              "    <tr>\n",
              "      <th>3</th>\n",
              "      <td>22000.0</td>\n",
              "      <td>23000.0</td>\n",
              "      <td>27000.0</td>\n",
              "      <td>Action|Thriller</td>\n",
              "      <td>1144337</td>\n",
              "      <td>106759</td>\n",
              "      <td>2701.0</td>\n",
              "      <td>English</td>\n",
              "      <td>250000000.0</td>\n",
              "      <td>23000.0</td>\n",
              "      <td>8.5</td>\n",
              "      <td>164000</td>\n",
              "    </tr>\n",
              "    <tr>\n",
              "      <th>4</th>\n",
              "      <td>131.0</td>\n",
              "      <td>371.5</td>\n",
              "      <td>131.0</td>\n",
              "      <td>Documentary</td>\n",
              "      <td>8</td>\n",
              "      <td>143</td>\n",
              "      <td>156.0</td>\n",
              "      <td>English</td>\n",
              "      <td>20000000.0</td>\n",
              "      <td>12.0</td>\n",
              "      <td>7.1</td>\n",
              "      <td>0</td>\n",
              "    </tr>\n",
              "    <tr>\n",
              "      <th>...</th>\n",
              "      <td>...</td>\n",
              "      <td>...</td>\n",
              "      <td>...</td>\n",
              "      <td>...</td>\n",
              "      <td>...</td>\n",
              "      <td>...</td>\n",
              "      <td>...</td>\n",
              "      <td>...</td>\n",
              "      <td>...</td>\n",
              "      <td>...</td>\n",
              "      <td>...</td>\n",
              "      <td>...</td>\n",
              "    </tr>\n",
              "    <tr>\n",
              "      <th>5038</th>\n",
              "      <td>2.0</td>\n",
              "      <td>318.0</td>\n",
              "      <td>637.0</td>\n",
              "      <td>Comedy|Drama</td>\n",
              "      <td>629</td>\n",
              "      <td>2283</td>\n",
              "      <td>6.0</td>\n",
              "      <td>English</td>\n",
              "      <td>20000000.0</td>\n",
              "      <td>470.0</td>\n",
              "      <td>7.7</td>\n",
              "      <td>84</td>\n",
              "    </tr>\n",
              "    <tr>\n",
              "      <th>5039</th>\n",
              "      <td>49.0</td>\n",
              "      <td>319.0</td>\n",
              "      <td>841.0</td>\n",
              "      <td>Crime|Drama|Mystery|Thriller</td>\n",
              "      <td>73839</td>\n",
              "      <td>1753</td>\n",
              "      <td>359.0</td>\n",
              "      <td>English</td>\n",
              "      <td>20000000.0</td>\n",
              "      <td>593.0</td>\n",
              "      <td>7.5</td>\n",
              "      <td>32000</td>\n",
              "    </tr>\n",
              "    <tr>\n",
              "      <th>5040</th>\n",
              "      <td>0.0</td>\n",
              "      <td>0.0</td>\n",
              "      <td>0.0</td>\n",
              "      <td>Drama|Horror|Thriller</td>\n",
              "      <td>38</td>\n",
              "      <td>0</td>\n",
              "      <td>3.0</td>\n",
              "      <td>English</td>\n",
              "      <td>1400.0</td>\n",
              "      <td>0.0</td>\n",
              "      <td>6.3</td>\n",
              "      <td>16</td>\n",
              "    </tr>\n",
              "    <tr>\n",
              "      <th>5041</th>\n",
              "      <td>0.0</td>\n",
              "      <td>489.0</td>\n",
              "      <td>946.0</td>\n",
              "      <td>Comedy|Drama|Romance</td>\n",
              "      <td>1255</td>\n",
              "      <td>2386</td>\n",
              "      <td>9.0</td>\n",
              "      <td>English</td>\n",
              "      <td>20000000.0</td>\n",
              "      <td>719.0</td>\n",
              "      <td>6.3</td>\n",
              "      <td>660</td>\n",
              "    </tr>\n",
              "    <tr>\n",
              "      <th>5042</th>\n",
              "      <td>16.0</td>\n",
              "      <td>16.0</td>\n",
              "      <td>86.0</td>\n",
              "      <td>Documentary</td>\n",
              "      <td>4285</td>\n",
              "      <td>163</td>\n",
              "      <td>84.0</td>\n",
              "      <td>English</td>\n",
              "      <td>1100.0</td>\n",
              "      <td>23.0</td>\n",
              "      <td>6.6</td>\n",
              "      <td>456</td>\n",
              "    </tr>\n",
              "  </tbody>\n",
              "</table>\n",
              "<p>5043 rows × 12 columns</p>\n",
              "</div>"
            ],
            "text/plain": [
              "      director_facebook_likes  actor_3_facebook_likes  actor_1_facebook_likes  \\\n",
              "0                         0.0                   855.0                  1000.0   \n",
              "1                       563.0                  1000.0                 40000.0   \n",
              "2                         0.0                   161.0                 11000.0   \n",
              "3                     22000.0                 23000.0                 27000.0   \n",
              "4                       131.0                   371.5                   131.0   \n",
              "...                       ...                     ...                     ...   \n",
              "5038                      2.0                   318.0                   637.0   \n",
              "5039                     49.0                   319.0                   841.0   \n",
              "5040                      0.0                     0.0                     0.0   \n",
              "5041                      0.0                   489.0                   946.0   \n",
              "5042                     16.0                    16.0                    86.0   \n",
              "\n",
              "                               genres  num_voted_users  \\\n",
              "0     Action|Adventure|Fantasy|Sci-Fi           886204   \n",
              "1            Action|Adventure|Fantasy           471220   \n",
              "2           Action|Adventure|Thriller           275868   \n",
              "3                     Action|Thriller          1144337   \n",
              "4                         Documentary                8   \n",
              "...                               ...              ...   \n",
              "5038                     Comedy|Drama              629   \n",
              "5039     Crime|Drama|Mystery|Thriller            73839   \n",
              "5040            Drama|Horror|Thriller               38   \n",
              "5041             Comedy|Drama|Romance             1255   \n",
              "5042                      Documentary             4285   \n",
              "\n",
              "      cast_total_facebook_likes  num_user_for_reviews language       budget  \\\n",
              "0                          4834                3054.0  English  237000000.0   \n",
              "1                         48350                1238.0  English  300000000.0   \n",
              "2                         11700                 994.0  English  245000000.0   \n",
              "3                        106759                2701.0  English  250000000.0   \n",
              "4                           143                 156.0  English   20000000.0   \n",
              "...                         ...                   ...      ...          ...   \n",
              "5038                       2283                   6.0  English   20000000.0   \n",
              "5039                       1753                 359.0  English   20000000.0   \n",
              "5040                          0                   3.0  English       1400.0   \n",
              "5041                       2386                   9.0  English   20000000.0   \n",
              "5042                        163                  84.0  English       1100.0   \n",
              "\n",
              "      actor_2_facebook_likes  imdb_score  movie_facebook_likes  \n",
              "0                      936.0         7.9                 33000  \n",
              "1                     5000.0         7.1                     0  \n",
              "2                      393.0         6.8                 85000  \n",
              "3                    23000.0         8.5                164000  \n",
              "4                       12.0         7.1                     0  \n",
              "...                      ...         ...                   ...  \n",
              "5038                   470.0         7.7                    84  \n",
              "5039                   593.0         7.5                 32000  \n",
              "5040                     0.0         6.3                    16  \n",
              "5041                   719.0         6.3                   660  \n",
              "5042                    23.0         6.6                   456  \n",
              "\n",
              "[5043 rows x 12 columns]"
            ]
          },
          "execution_count": 11,
          "metadata": {},
          "output_type": "execute_result"
        }
      ],
      "source": [
        "df"
      ]
    },
    {
      "attachments": {},
      "cell_type": "markdown",
      "metadata": {},
      "source": [
        "## Label Encoding"
      ]
    },
    {
      "cell_type": "code",
      "execution_count": 12,
      "metadata": {
        "id": "bCHMkQP0rry0"
      },
      "outputs": [],
      "source": [
        "\n",
        "from sklearn import preprocessing\n",
        "label_encoder = preprocessing.LabelEncoder()"
      ]
    },
    {
      "cell_type": "code",
      "execution_count": 13,
      "metadata": {},
      "outputs": [],
      "source": [
        "df['language'] = label_encoder.fit_transform(df['language'])\n",
        "df['genres'] = label_encoder.fit_transform(df['genres'])\n"
      ]
    },
    {
      "cell_type": "code",
      "execution_count": 14,
      "metadata": {
        "id": "Qyf0sF-_rry1"
      },
      "outputs": [
        {
          "name": "stdout",
          "output_type": "stream",
          "text": [
            "<class 'pandas.core.frame.DataFrame'>\n",
            "RangeIndex: 5043 entries, 0 to 5042\n",
            "Data columns (total 12 columns):\n",
            " #   Column                     Non-Null Count  Dtype  \n",
            "---  ------                     --------------  -----  \n",
            " 0   director_facebook_likes    5043 non-null   float64\n",
            " 1   actor_3_facebook_likes     5043 non-null   float64\n",
            " 2   actor_1_facebook_likes     5043 non-null   float64\n",
            " 3   genres                     5043 non-null   int32  \n",
            " 4   num_voted_users            5043 non-null   int64  \n",
            " 5   cast_total_facebook_likes  5043 non-null   int64  \n",
            " 6   num_user_for_reviews       5043 non-null   float64\n",
            " 7   language                   5043 non-null   int32  \n",
            " 8   budget                     5043 non-null   float64\n",
            " 9   actor_2_facebook_likes     5043 non-null   float64\n",
            " 10  imdb_score                 5043 non-null   float64\n",
            " 11  movie_facebook_likes       5043 non-null   int64  \n",
            "dtypes: float64(7), int32(2), int64(3)\n",
            "memory usage: 433.5 KB\n"
          ]
        }
      ],
      "source": [
        "df.head()\n",
        "df.info()"
      ]
    },
    {
      "attachments": {},
      "cell_type": "markdown",
      "metadata": {
        "id": "W11EuvT3RWAY"
      },
      "source": [
        "## Spliting Data"
      ]
    },
    {
      "cell_type": "code",
      "execution_count": 15,
      "metadata": {
        "id": "rwbZaJoFrry2"
      },
      "outputs": [],
      "source": [
        "X_train, X_test, y_train, y_test = train_test_split(df, y, test_size=0.2, random_state=50)"
      ]
    },
    {
      "attachments": {},
      "cell_type": "markdown",
      "metadata": {
        "id": "kRfpGPsdRagY"
      },
      "source": [
        "## RandomForestRegressor"
      ]
    },
    {
      "cell_type": "code",
      "execution_count": 16,
      "metadata": {
        "id": "fdheGBm_rry2"
      },
      "outputs": [],
      "source": [
        "# Train a random forest regressor model\n",
        "rf = RandomForestRegressor(n_estimators=50, random_state=50)\n"
      ]
    },
    {
      "attachments": {},
      "cell_type": "markdown",
      "metadata": {
        "id": "uAj2A425UgSa"
      },
      "source": [
        "### Bagging"
      ]
    },
    {
      "cell_type": "code",
      "execution_count": 17,
      "metadata": {
        "id": "lB04SwLEUgSa"
      },
      "outputs": [
        {
          "data": {
            "text/html": [
              "<style>#sk-container-id-1 {color: black;background-color: white;}#sk-container-id-1 pre{padding: 0;}#sk-container-id-1 div.sk-toggleable {background-color: white;}#sk-container-id-1 label.sk-toggleable__label {cursor: pointer;display: block;width: 100%;margin-bottom: 0;padding: 0.3em;box-sizing: border-box;text-align: center;}#sk-container-id-1 label.sk-toggleable__label-arrow:before {content: \"▸\";float: left;margin-right: 0.25em;color: #696969;}#sk-container-id-1 label.sk-toggleable__label-arrow:hover:before {color: black;}#sk-container-id-1 div.sk-estimator:hover label.sk-toggleable__label-arrow:before {color: black;}#sk-container-id-1 div.sk-toggleable__content {max-height: 0;max-width: 0;overflow: hidden;text-align: left;background-color: #f0f8ff;}#sk-container-id-1 div.sk-toggleable__content pre {margin: 0.2em;color: black;border-radius: 0.25em;background-color: #f0f8ff;}#sk-container-id-1 input.sk-toggleable__control:checked~div.sk-toggleable__content {max-height: 200px;max-width: 100%;overflow: auto;}#sk-container-id-1 input.sk-toggleable__control:checked~label.sk-toggleable__label-arrow:before {content: \"▾\";}#sk-container-id-1 div.sk-estimator input.sk-toggleable__control:checked~label.sk-toggleable__label {background-color: #d4ebff;}#sk-container-id-1 div.sk-label input.sk-toggleable__control:checked~label.sk-toggleable__label {background-color: #d4ebff;}#sk-container-id-1 input.sk-hidden--visually {border: 0;clip: rect(1px 1px 1px 1px);clip: rect(1px, 1px, 1px, 1px);height: 1px;margin: -1px;overflow: hidden;padding: 0;position: absolute;width: 1px;}#sk-container-id-1 div.sk-estimator {font-family: monospace;background-color: #f0f8ff;border: 1px dotted black;border-radius: 0.25em;box-sizing: border-box;margin-bottom: 0.5em;}#sk-container-id-1 div.sk-estimator:hover {background-color: #d4ebff;}#sk-container-id-1 div.sk-parallel-item::after {content: \"\";width: 100%;border-bottom: 1px solid gray;flex-grow: 1;}#sk-container-id-1 div.sk-label:hover label.sk-toggleable__label {background-color: #d4ebff;}#sk-container-id-1 div.sk-serial::before {content: \"\";position: absolute;border-left: 1px solid gray;box-sizing: border-box;top: 0;bottom: 0;left: 50%;z-index: 0;}#sk-container-id-1 div.sk-serial {display: flex;flex-direction: column;align-items: center;background-color: white;padding-right: 0.2em;padding-left: 0.2em;position: relative;}#sk-container-id-1 div.sk-item {position: relative;z-index: 1;}#sk-container-id-1 div.sk-parallel {display: flex;align-items: stretch;justify-content: center;background-color: white;position: relative;}#sk-container-id-1 div.sk-item::before, #sk-container-id-1 div.sk-parallel-item::before {content: \"\";position: absolute;border-left: 1px solid gray;box-sizing: border-box;top: 0;bottom: 0;left: 50%;z-index: -1;}#sk-container-id-1 div.sk-parallel-item {display: flex;flex-direction: column;z-index: 1;position: relative;background-color: white;}#sk-container-id-1 div.sk-parallel-item:first-child::after {align-self: flex-end;width: 50%;}#sk-container-id-1 div.sk-parallel-item:last-child::after {align-self: flex-start;width: 50%;}#sk-container-id-1 div.sk-parallel-item:only-child::after {width: 0;}#sk-container-id-1 div.sk-dashed-wrapped {border: 1px dashed gray;margin: 0 0.4em 0.5em 0.4em;box-sizing: border-box;padding-bottom: 0.4em;background-color: white;}#sk-container-id-1 div.sk-label label {font-family: monospace;font-weight: bold;display: inline-block;line-height: 1.2em;}#sk-container-id-1 div.sk-label-container {text-align: center;}#sk-container-id-1 div.sk-container {/* jupyter's `normalize.less` sets `[hidden] { display: none; }` but bootstrap.min.css set `[hidden] { display: none !important; }` so we also need the `!important` here to be able to override the default hidden behavior on the sphinx rendered scikit-learn.org. See: https://github.com/scikit-learn/scikit-learn/issues/21755 */display: inline-block !important;position: relative;}#sk-container-id-1 div.sk-text-repr-fallback {display: none;}</style><div id=\"sk-container-id-1\" class=\"sk-top-container\"><div class=\"sk-text-repr-fallback\"><pre>BaggingRegressor(estimator=RandomForestRegressor(n_estimators=50,\n",
              "                                                 random_state=50),\n",
              "                 n_estimators=40, random_state=50)</pre><b>In a Jupyter environment, please rerun this cell to show the HTML representation or trust the notebook. <br />On GitHub, the HTML representation is unable to render, please try loading this page with nbviewer.org.</b></div><div class=\"sk-container\" hidden><div class=\"sk-item sk-dashed-wrapped\"><div class=\"sk-label-container\"><div class=\"sk-label sk-toggleable\"><input class=\"sk-toggleable__control sk-hidden--visually\" id=\"sk-estimator-id-1\" type=\"checkbox\" ><label for=\"sk-estimator-id-1\" class=\"sk-toggleable__label sk-toggleable__label-arrow\">BaggingRegressor</label><div class=\"sk-toggleable__content\"><pre>BaggingRegressor(estimator=RandomForestRegressor(n_estimators=50,\n",
              "                                                 random_state=50),\n",
              "                 n_estimators=40, random_state=50)</pre></div></div></div><div class=\"sk-parallel\"><div class=\"sk-parallel-item\"><div class=\"sk-item\"><div class=\"sk-label-container\"><div class=\"sk-label sk-toggleable\"><input class=\"sk-toggleable__control sk-hidden--visually\" id=\"sk-estimator-id-2\" type=\"checkbox\" ><label for=\"sk-estimator-id-2\" class=\"sk-toggleable__label sk-toggleable__label-arrow\">estimator: RandomForestRegressor</label><div class=\"sk-toggleable__content\"><pre>RandomForestRegressor(n_estimators=50, random_state=50)</pre></div></div></div><div class=\"sk-serial\"><div class=\"sk-item\"><div class=\"sk-estimator sk-toggleable\"><input class=\"sk-toggleable__control sk-hidden--visually\" id=\"sk-estimator-id-3\" type=\"checkbox\" ><label for=\"sk-estimator-id-3\" class=\"sk-toggleable__label sk-toggleable__label-arrow\">RandomForestRegressor</label><div class=\"sk-toggleable__content\"><pre>RandomForestRegressor(n_estimators=50, random_state=50)</pre></div></div></div></div></div></div></div></div></div></div>"
            ],
            "text/plain": [
              "BaggingRegressor(estimator=RandomForestRegressor(n_estimators=50,\n",
              "                                                 random_state=50),\n",
              "                 n_estimators=40, random_state=50)"
            ]
          },
          "execution_count": 17,
          "metadata": {},
          "output_type": "execute_result"
        }
      ],
      "source": [
        "from sklearn.metrics import accuracy_score\n",
        "import matplotlib.pyplot as plt\n",
        "from sklearn import model_selection\n",
        "\n",
        "# Create bagging classifier\n",
        "baggingrf = BaggingRegressor(estimator= rf,n_estimators = 40, random_state = 50)\n",
        "\n",
        "# Fit the model\n",
        "baggingrf.fit(X_train, y_train)\n"
      ]
    },
    {
      "cell_type": "code",
      "execution_count": 18,
      "metadata": {
        "id": "Tik6C4ij8uJO"
      },
      "outputs": [
        {
          "name": "stdout",
          "output_type": "stream",
          "text": [
            "0.6508595108485022\n"
          ]
        }
      ],
      "source": [
        "# Append the model and score to their respective list\n",
        "print(baggingrf.score(X_test,y_test))"
      ]
    },
    {
      "attachments": {},
      "cell_type": "markdown",
      "metadata": {
        "id": "AE6KMeQ-Uh1Q"
      },
      "source": [
        "### Boosting"
      ]
    },
    {
      "cell_type": "code",
      "execution_count": 19,
      "metadata": {
        "id": "WE9QFvslUh1Q"
      },
      "outputs": [
        {
          "name": "stdout",
          "output_type": "stream",
          "text": [
            "0.6666074452720967\n"
          ]
        }
      ],
      "source": [
        "from sklearn.ensemble import AdaBoostClassifier\n",
        "\n",
        "# Create an AdaBoost classifier with 50 base estimators\n",
        "boostingrf = AdaBoostRegressor(estimator=baggingrf, n_estimators=40)\n",
        "\n",
        "boostingrf.fit(X_train, y_train)\n",
        "\n",
        "# Append the model and score to their respective list\n",
        "print(boostingrf.score(X_test,y_test))"
      ]
    },
    {
      "cell_type": "code",
      "execution_count": 20,
      "metadata": {
        "id": "InSGht3_Uh1Q"
      },
      "outputs": [],
      "source": [
        "y_pred = boostingrf.predict(X_test)"
      ]
    },
    {
      "attachments": {},
      "cell_type": "markdown",
      "metadata": {
        "id": "dGUz-CLcRjE4"
      },
      "source": [
        "## LinearRegression"
      ]
    },
    {
      "cell_type": "code",
      "execution_count": 21,
      "metadata": {
        "id": "D2WW1xZorry3"
      },
      "outputs": [
        {
          "data": {
            "text/html": [
              "<style>#sk-container-id-2 {color: black;background-color: white;}#sk-container-id-2 pre{padding: 0;}#sk-container-id-2 div.sk-toggleable {background-color: white;}#sk-container-id-2 label.sk-toggleable__label {cursor: pointer;display: block;width: 100%;margin-bottom: 0;padding: 0.3em;box-sizing: border-box;text-align: center;}#sk-container-id-2 label.sk-toggleable__label-arrow:before {content: \"▸\";float: left;margin-right: 0.25em;color: #696969;}#sk-container-id-2 label.sk-toggleable__label-arrow:hover:before {color: black;}#sk-container-id-2 div.sk-estimator:hover label.sk-toggleable__label-arrow:before {color: black;}#sk-container-id-2 div.sk-toggleable__content {max-height: 0;max-width: 0;overflow: hidden;text-align: left;background-color: #f0f8ff;}#sk-container-id-2 div.sk-toggleable__content pre {margin: 0.2em;color: black;border-radius: 0.25em;background-color: #f0f8ff;}#sk-container-id-2 input.sk-toggleable__control:checked~div.sk-toggleable__content {max-height: 200px;max-width: 100%;overflow: auto;}#sk-container-id-2 input.sk-toggleable__control:checked~label.sk-toggleable__label-arrow:before {content: \"▾\";}#sk-container-id-2 div.sk-estimator input.sk-toggleable__control:checked~label.sk-toggleable__label {background-color: #d4ebff;}#sk-container-id-2 div.sk-label input.sk-toggleable__control:checked~label.sk-toggleable__label {background-color: #d4ebff;}#sk-container-id-2 input.sk-hidden--visually {border: 0;clip: rect(1px 1px 1px 1px);clip: rect(1px, 1px, 1px, 1px);height: 1px;margin: -1px;overflow: hidden;padding: 0;position: absolute;width: 1px;}#sk-container-id-2 div.sk-estimator {font-family: monospace;background-color: #f0f8ff;border: 1px dotted black;border-radius: 0.25em;box-sizing: border-box;margin-bottom: 0.5em;}#sk-container-id-2 div.sk-estimator:hover {background-color: #d4ebff;}#sk-container-id-2 div.sk-parallel-item::after {content: \"\";width: 100%;border-bottom: 1px solid gray;flex-grow: 1;}#sk-container-id-2 div.sk-label:hover label.sk-toggleable__label {background-color: #d4ebff;}#sk-container-id-2 div.sk-serial::before {content: \"\";position: absolute;border-left: 1px solid gray;box-sizing: border-box;top: 0;bottom: 0;left: 50%;z-index: 0;}#sk-container-id-2 div.sk-serial {display: flex;flex-direction: column;align-items: center;background-color: white;padding-right: 0.2em;padding-left: 0.2em;position: relative;}#sk-container-id-2 div.sk-item {position: relative;z-index: 1;}#sk-container-id-2 div.sk-parallel {display: flex;align-items: stretch;justify-content: center;background-color: white;position: relative;}#sk-container-id-2 div.sk-item::before, #sk-container-id-2 div.sk-parallel-item::before {content: \"\";position: absolute;border-left: 1px solid gray;box-sizing: border-box;top: 0;bottom: 0;left: 50%;z-index: -1;}#sk-container-id-2 div.sk-parallel-item {display: flex;flex-direction: column;z-index: 1;position: relative;background-color: white;}#sk-container-id-2 div.sk-parallel-item:first-child::after {align-self: flex-end;width: 50%;}#sk-container-id-2 div.sk-parallel-item:last-child::after {align-self: flex-start;width: 50%;}#sk-container-id-2 div.sk-parallel-item:only-child::after {width: 0;}#sk-container-id-2 div.sk-dashed-wrapped {border: 1px dashed gray;margin: 0 0.4em 0.5em 0.4em;box-sizing: border-box;padding-bottom: 0.4em;background-color: white;}#sk-container-id-2 div.sk-label label {font-family: monospace;font-weight: bold;display: inline-block;line-height: 1.2em;}#sk-container-id-2 div.sk-label-container {text-align: center;}#sk-container-id-2 div.sk-container {/* jupyter's `normalize.less` sets `[hidden] { display: none; }` but bootstrap.min.css set `[hidden] { display: none !important; }` so we also need the `!important` here to be able to override the default hidden behavior on the sphinx rendered scikit-learn.org. See: https://github.com/scikit-learn/scikit-learn/issues/21755 */display: inline-block !important;position: relative;}#sk-container-id-2 div.sk-text-repr-fallback {display: none;}</style><div id=\"sk-container-id-2\" class=\"sk-top-container\"><div class=\"sk-text-repr-fallback\"><pre>LinearRegression()</pre><b>In a Jupyter environment, please rerun this cell to show the HTML representation or trust the notebook. <br />On GitHub, the HTML representation is unable to render, please try loading this page with nbviewer.org.</b></div><div class=\"sk-container\" hidden><div class=\"sk-item\"><div class=\"sk-estimator sk-toggleable\"><input class=\"sk-toggleable__control sk-hidden--visually\" id=\"sk-estimator-id-4\" type=\"checkbox\" checked><label for=\"sk-estimator-id-4\" class=\"sk-toggleable__label sk-toggleable__label-arrow\">LinearRegression</label><div class=\"sk-toggleable__content\"><pre>LinearRegression()</pre></div></div></div></div></div>"
            ],
            "text/plain": [
              "LinearRegression()"
            ]
          },
          "execution_count": 21,
          "metadata": {},
          "output_type": "execute_result"
        }
      ],
      "source": [
        "from sklearn.linear_model import LinearRegression\n",
        "reg=LinearRegression()\n",
        "reg.fit(X_train,y_train)"
      ]
    },
    {
      "cell_type": "code",
      "execution_count": 22,
      "metadata": {
        "id": "RWSQJXv7TQqD"
      },
      "outputs": [
        {
          "name": "stdout",
          "output_type": "stream",
          "text": [
            "0.5188206052619975\n"
          ]
        }
      ],
      "source": [
        "print(reg.score(X_test,y_test))"
      ]
    },
    {
      "attachments": {},
      "cell_type": "markdown",
      "metadata": {
        "id": "I8P1SZc3UR8p"
      },
      "source": [
        "### Bagging"
      ]
    },
    {
      "cell_type": "code",
      "execution_count": 23,
      "metadata": {
        "id": "yqaYs3HiUR8q"
      },
      "outputs": [
        {
          "name": "stdout",
          "output_type": "stream",
          "text": [
            "0.46699593530675987\n"
          ]
        }
      ],
      "source": [
        "from sklearn.metrics import accuracy_score\n",
        "import matplotlib.pyplot as plt\n",
        "from sklearn import model_selection\n",
        "\n",
        "# Create bagging classifier\n",
        "baggingreg = BaggingRegressor(estimator= reg,n_estimators = 40, random_state = 50)\n",
        "\n",
        "# Fit the model\n",
        "baggingreg.fit(X_train, y_train)\n",
        "\n",
        "# Append the model and score to their respective list\n",
        "print(baggingreg.score(X_test,y_test))\n"
      ]
    },
    {
      "attachments": {},
      "cell_type": "markdown",
      "metadata": {
        "id": "X6dy0aKQUZ0y"
      },
      "source": [
        "### Boosting"
      ]
    },
    {
      "cell_type": "code",
      "execution_count": 24,
      "metadata": {
        "id": "TIcyhTJBUZ0z"
      },
      "outputs": [
        {
          "name": "stdout",
          "output_type": "stream",
          "text": [
            "0.45778421354403864\n"
          ]
        }
      ],
      "source": [
        "from sklearn.ensemble import AdaBoostClassifier\n",
        "\n",
        "# Create an AdaBoost classifier with 50 base estimators\n",
        "boostingreg = AdaBoostRegressor(estimator=baggingreg, n_estimators=40)\n",
        "\n",
        "boostingreg.fit(X_train, y_train)\n",
        "\n",
        "# Append the model and score to their respective list\n",
        "print(boostingreg.score(X_test,y_test))"
      ]
    },
    {
      "cell_type": "code",
      "execution_count": 25,
      "metadata": {
        "id": "mEIRD-y9UZ0z"
      },
      "outputs": [],
      "source": [
        "y_pred = boostingreg.predict(X_test)"
      ]
    },
    {
      "attachments": {},
      "cell_type": "markdown",
      "metadata": {
        "id": "kEQVAcO2RwT_"
      },
      "source": [
        "## DecisionTreeRegressor"
      ]
    },
    {
      "cell_type": "code",
      "execution_count": 26,
      "metadata": {
        "id": "aq2x7Np0rry3"
      },
      "outputs": [],
      "source": [
        "from sklearn.metrics import classification_report\n",
        "from sklearn.tree import DecisionTreeRegressor\n",
        "\n",
        "\n",
        "DT_entropy = DecisionTreeRegressor(random_state=50)"
      ]
    },
    {
      "attachments": {},
      "cell_type": "markdown",
      "metadata": {
        "id": "6VkC3URVItLn"
      },
      "source": [
        "### Bagging"
      ]
    },
    {
      "cell_type": "code",
      "execution_count": 27,
      "metadata": {
        "id": "2Dt4ElfHItLn"
      },
      "outputs": [],
      "source": [
        "from sklearn.metrics import accuracy_score\n",
        "from sklearn.ensemble import BaggingClassifier\n",
        "import matplotlib.pyplot as plt\n",
        "from sklearn import model_selection"
      ]
    },
    {
      "cell_type": "code",
      "execution_count": 28,
      "metadata": {
        "id": "gSNVbQK3ItLo"
      },
      "outputs": [
        {
          "name": "stdout",
          "output_type": "stream",
          "text": [
            "0.6436664379192775\n"
          ]
        }
      ],
      "source": [
        "# Create bagging classifier\n",
        "baggingdt = BaggingRegressor(estimator= DT_entropy,n_estimators = 40, random_state = 50)\n",
        "\n",
        "# Fit the model\n",
        "baggingdt.fit(X_train, y_train)\n",
        "\n",
        "# Append the model and score to their respective list\n",
        "print(baggingdt.score(X_test,y_test))\n"
      ]
    },
    {
      "attachments": {},
      "cell_type": "markdown",
      "metadata": {
        "id": "AadMj-tdJFH2"
      },
      "source": [
        "### Boosting"
      ]
    },
    {
      "cell_type": "code",
      "execution_count": 29,
      "metadata": {
        "id": "z3DkagH6JFH3"
      },
      "outputs": [
        {
          "name": "stdout",
          "output_type": "stream",
          "text": [
            "0.6436664379192775\n"
          ]
        }
      ],
      "source": [
        "from sklearn.ensemble import AdaBoostClassifier\n",
        "\n",
        "# Create an AdaBoost classifier with 50 base estimators\n",
        "boostingdt = AdaBoostRegressor(estimator=baggingdt, n_estimators=40)\n",
        "\n",
        "boostingdt.fit(X_train, y_train)\n",
        "\n",
        "# Append the model and score to their respective list\n",
        "print(baggingdt.score(X_test,y_test))"
      ]
    },
    {
      "cell_type": "code",
      "execution_count": 30,
      "metadata": {
        "id": "CxVL4mhqJFH3"
      },
      "outputs": [],
      "source": [
        "y_pred = boostingdt.predict(X_test)"
      ]
    },
    {
      "attachments": {},
      "cell_type": "markdown",
      "metadata": {
        "id": "kMhDr1AjR5Xg"
      },
      "source": [
        "## SVM"
      ]
    },
    {
      "cell_type": "code",
      "execution_count": 31,
      "metadata": {
        "id": "z2u0mwf3rry6"
      },
      "outputs": [],
      "source": [
        "#SVM\n",
        "\n",
        "from sklearn import svm\n",
        "\n",
        "sv = svm.SVR(kernel='rbf', C=1)"
      ]
    },
    {
      "attachments": {},
      "cell_type": "markdown",
      "metadata": {
        "id": "4tWhuIvLSYGh"
      },
      "source": [
        "### Bagging"
      ]
    },
    {
      "cell_type": "code",
      "execution_count": 32,
      "metadata": {
        "id": "b2XHym_9SOC9"
      },
      "outputs": [
        {
          "data": {
            "text/html": [
              "<style>#sk-container-id-3 {color: black;background-color: white;}#sk-container-id-3 pre{padding: 0;}#sk-container-id-3 div.sk-toggleable {background-color: white;}#sk-container-id-3 label.sk-toggleable__label {cursor: pointer;display: block;width: 100%;margin-bottom: 0;padding: 0.3em;box-sizing: border-box;text-align: center;}#sk-container-id-3 label.sk-toggleable__label-arrow:before {content: \"▸\";float: left;margin-right: 0.25em;color: #696969;}#sk-container-id-3 label.sk-toggleable__label-arrow:hover:before {color: black;}#sk-container-id-3 div.sk-estimator:hover label.sk-toggleable__label-arrow:before {color: black;}#sk-container-id-3 div.sk-toggleable__content {max-height: 0;max-width: 0;overflow: hidden;text-align: left;background-color: #f0f8ff;}#sk-container-id-3 div.sk-toggleable__content pre {margin: 0.2em;color: black;border-radius: 0.25em;background-color: #f0f8ff;}#sk-container-id-3 input.sk-toggleable__control:checked~div.sk-toggleable__content {max-height: 200px;max-width: 100%;overflow: auto;}#sk-container-id-3 input.sk-toggleable__control:checked~label.sk-toggleable__label-arrow:before {content: \"▾\";}#sk-container-id-3 div.sk-estimator input.sk-toggleable__control:checked~label.sk-toggleable__label {background-color: #d4ebff;}#sk-container-id-3 div.sk-label input.sk-toggleable__control:checked~label.sk-toggleable__label {background-color: #d4ebff;}#sk-container-id-3 input.sk-hidden--visually {border: 0;clip: rect(1px 1px 1px 1px);clip: rect(1px, 1px, 1px, 1px);height: 1px;margin: -1px;overflow: hidden;padding: 0;position: absolute;width: 1px;}#sk-container-id-3 div.sk-estimator {font-family: monospace;background-color: #f0f8ff;border: 1px dotted black;border-radius: 0.25em;box-sizing: border-box;margin-bottom: 0.5em;}#sk-container-id-3 div.sk-estimator:hover {background-color: #d4ebff;}#sk-container-id-3 div.sk-parallel-item::after {content: \"\";width: 100%;border-bottom: 1px solid gray;flex-grow: 1;}#sk-container-id-3 div.sk-label:hover label.sk-toggleable__label {background-color: #d4ebff;}#sk-container-id-3 div.sk-serial::before {content: \"\";position: absolute;border-left: 1px solid gray;box-sizing: border-box;top: 0;bottom: 0;left: 50%;z-index: 0;}#sk-container-id-3 div.sk-serial {display: flex;flex-direction: column;align-items: center;background-color: white;padding-right: 0.2em;padding-left: 0.2em;position: relative;}#sk-container-id-3 div.sk-item {position: relative;z-index: 1;}#sk-container-id-3 div.sk-parallel {display: flex;align-items: stretch;justify-content: center;background-color: white;position: relative;}#sk-container-id-3 div.sk-item::before, #sk-container-id-3 div.sk-parallel-item::before {content: \"\";position: absolute;border-left: 1px solid gray;box-sizing: border-box;top: 0;bottom: 0;left: 50%;z-index: -1;}#sk-container-id-3 div.sk-parallel-item {display: flex;flex-direction: column;z-index: 1;position: relative;background-color: white;}#sk-container-id-3 div.sk-parallel-item:first-child::after {align-self: flex-end;width: 50%;}#sk-container-id-3 div.sk-parallel-item:last-child::after {align-self: flex-start;width: 50%;}#sk-container-id-3 div.sk-parallel-item:only-child::after {width: 0;}#sk-container-id-3 div.sk-dashed-wrapped {border: 1px dashed gray;margin: 0 0.4em 0.5em 0.4em;box-sizing: border-box;padding-bottom: 0.4em;background-color: white;}#sk-container-id-3 div.sk-label label {font-family: monospace;font-weight: bold;display: inline-block;line-height: 1.2em;}#sk-container-id-3 div.sk-label-container {text-align: center;}#sk-container-id-3 div.sk-container {/* jupyter's `normalize.less` sets `[hidden] { display: none; }` but bootstrap.min.css set `[hidden] { display: none !important; }` so we also need the `!important` here to be able to override the default hidden behavior on the sphinx rendered scikit-learn.org. See: https://github.com/scikit-learn/scikit-learn/issues/21755 */display: inline-block !important;position: relative;}#sk-container-id-3 div.sk-text-repr-fallback {display: none;}</style><div id=\"sk-container-id-3\" class=\"sk-top-container\"><div class=\"sk-text-repr-fallback\"><pre>BaggingRegressor(estimator=SVR(C=1), n_estimators=40, random_state=50)</pre><b>In a Jupyter environment, please rerun this cell to show the HTML representation or trust the notebook. <br />On GitHub, the HTML representation is unable to render, please try loading this page with nbviewer.org.</b></div><div class=\"sk-container\" hidden><div class=\"sk-item sk-dashed-wrapped\"><div class=\"sk-label-container\"><div class=\"sk-label sk-toggleable\"><input class=\"sk-toggleable__control sk-hidden--visually\" id=\"sk-estimator-id-5\" type=\"checkbox\" ><label for=\"sk-estimator-id-5\" class=\"sk-toggleable__label sk-toggleable__label-arrow\">BaggingRegressor</label><div class=\"sk-toggleable__content\"><pre>BaggingRegressor(estimator=SVR(C=1), n_estimators=40, random_state=50)</pre></div></div></div><div class=\"sk-parallel\"><div class=\"sk-parallel-item\"><div class=\"sk-item\"><div class=\"sk-label-container\"><div class=\"sk-label sk-toggleable\"><input class=\"sk-toggleable__control sk-hidden--visually\" id=\"sk-estimator-id-6\" type=\"checkbox\" ><label for=\"sk-estimator-id-6\" class=\"sk-toggleable__label sk-toggleable__label-arrow\">estimator: SVR</label><div class=\"sk-toggleable__content\"><pre>SVR(C=1)</pre></div></div></div><div class=\"sk-serial\"><div class=\"sk-item\"><div class=\"sk-estimator sk-toggleable\"><input class=\"sk-toggleable__control sk-hidden--visually\" id=\"sk-estimator-id-7\" type=\"checkbox\" ><label for=\"sk-estimator-id-7\" class=\"sk-toggleable__label sk-toggleable__label-arrow\">SVR</label><div class=\"sk-toggleable__content\"><pre>SVR(C=1)</pre></div></div></div></div></div></div></div></div></div></div>"
            ],
            "text/plain": [
              "BaggingRegressor(estimator=SVR(C=1), n_estimators=40, random_state=50)"
            ]
          },
          "execution_count": 32,
          "metadata": {},
          "output_type": "execute_result"
        }
      ],
      "source": [
        "from sklearn.metrics import accuracy_score\n",
        "from sklearn.ensemble import BaggingClassifier\n",
        "import matplotlib.pyplot as plt\n",
        "from sklearn import model_selection\n",
        "\n",
        "# Create bagging classifier\n",
        "baggingsvm = BaggingRegressor(estimator= sv,n_estimators = 40, random_state = 50)\n",
        "\n",
        "# Fit the model\n",
        "baggingsvm.fit(X_train, y_train)\n",
        "\n",
        "\n"
      ]
    },
    {
      "cell_type": "code",
      "execution_count": 33,
      "metadata": {},
      "outputs": [
        {
          "name": "stdout",
          "output_type": "stream",
          "text": [
            "-0.07718529117767625\n"
          ]
        }
      ],
      "source": [
        "# Append the model and score to their respective list\n",
        "print(baggingsvm.score(X_test,y_test))"
      ]
    },
    {
      "attachments": {},
      "cell_type": "markdown",
      "metadata": {
        "id": "Ef_aXHHhSo4R"
      },
      "source": [
        "### Boosting"
      ]
    },
    {
      "cell_type": "code",
      "execution_count": 34,
      "metadata": {
        "id": "VIQrjZrfSOAW"
      },
      "outputs": [
        {
          "data": {
            "text/html": [
              "<style>#sk-container-id-4 {color: black;background-color: white;}#sk-container-id-4 pre{padding: 0;}#sk-container-id-4 div.sk-toggleable {background-color: white;}#sk-container-id-4 label.sk-toggleable__label {cursor: pointer;display: block;width: 100%;margin-bottom: 0;padding: 0.3em;box-sizing: border-box;text-align: center;}#sk-container-id-4 label.sk-toggleable__label-arrow:before {content: \"▸\";float: left;margin-right: 0.25em;color: #696969;}#sk-container-id-4 label.sk-toggleable__label-arrow:hover:before {color: black;}#sk-container-id-4 div.sk-estimator:hover label.sk-toggleable__label-arrow:before {color: black;}#sk-container-id-4 div.sk-toggleable__content {max-height: 0;max-width: 0;overflow: hidden;text-align: left;background-color: #f0f8ff;}#sk-container-id-4 div.sk-toggleable__content pre {margin: 0.2em;color: black;border-radius: 0.25em;background-color: #f0f8ff;}#sk-container-id-4 input.sk-toggleable__control:checked~div.sk-toggleable__content {max-height: 200px;max-width: 100%;overflow: auto;}#sk-container-id-4 input.sk-toggleable__control:checked~label.sk-toggleable__label-arrow:before {content: \"▾\";}#sk-container-id-4 div.sk-estimator input.sk-toggleable__control:checked~label.sk-toggleable__label {background-color: #d4ebff;}#sk-container-id-4 div.sk-label input.sk-toggleable__control:checked~label.sk-toggleable__label {background-color: #d4ebff;}#sk-container-id-4 input.sk-hidden--visually {border: 0;clip: rect(1px 1px 1px 1px);clip: rect(1px, 1px, 1px, 1px);height: 1px;margin: -1px;overflow: hidden;padding: 0;position: absolute;width: 1px;}#sk-container-id-4 div.sk-estimator {font-family: monospace;background-color: #f0f8ff;border: 1px dotted black;border-radius: 0.25em;box-sizing: border-box;margin-bottom: 0.5em;}#sk-container-id-4 div.sk-estimator:hover {background-color: #d4ebff;}#sk-container-id-4 div.sk-parallel-item::after {content: \"\";width: 100%;border-bottom: 1px solid gray;flex-grow: 1;}#sk-container-id-4 div.sk-label:hover label.sk-toggleable__label {background-color: #d4ebff;}#sk-container-id-4 div.sk-serial::before {content: \"\";position: absolute;border-left: 1px solid gray;box-sizing: border-box;top: 0;bottom: 0;left: 50%;z-index: 0;}#sk-container-id-4 div.sk-serial {display: flex;flex-direction: column;align-items: center;background-color: white;padding-right: 0.2em;padding-left: 0.2em;position: relative;}#sk-container-id-4 div.sk-item {position: relative;z-index: 1;}#sk-container-id-4 div.sk-parallel {display: flex;align-items: stretch;justify-content: center;background-color: white;position: relative;}#sk-container-id-4 div.sk-item::before, #sk-container-id-4 div.sk-parallel-item::before {content: \"\";position: absolute;border-left: 1px solid gray;box-sizing: border-box;top: 0;bottom: 0;left: 50%;z-index: -1;}#sk-container-id-4 div.sk-parallel-item {display: flex;flex-direction: column;z-index: 1;position: relative;background-color: white;}#sk-container-id-4 div.sk-parallel-item:first-child::after {align-self: flex-end;width: 50%;}#sk-container-id-4 div.sk-parallel-item:last-child::after {align-self: flex-start;width: 50%;}#sk-container-id-4 div.sk-parallel-item:only-child::after {width: 0;}#sk-container-id-4 div.sk-dashed-wrapped {border: 1px dashed gray;margin: 0 0.4em 0.5em 0.4em;box-sizing: border-box;padding-bottom: 0.4em;background-color: white;}#sk-container-id-4 div.sk-label label {font-family: monospace;font-weight: bold;display: inline-block;line-height: 1.2em;}#sk-container-id-4 div.sk-label-container {text-align: center;}#sk-container-id-4 div.sk-container {/* jupyter's `normalize.less` sets `[hidden] { display: none; }` but bootstrap.min.css set `[hidden] { display: none !important; }` so we also need the `!important` here to be able to override the default hidden behavior on the sphinx rendered scikit-learn.org. See: https://github.com/scikit-learn/scikit-learn/issues/21755 */display: inline-block !important;position: relative;}#sk-container-id-4 div.sk-text-repr-fallback {display: none;}</style><div id=\"sk-container-id-4\" class=\"sk-top-container\"><div class=\"sk-text-repr-fallback\"><pre>AdaBoostRegressor(estimator=BaggingRegressor(estimator=SVR(C=1),\n",
              "                                             n_estimators=40, random_state=50),\n",
              "                  n_estimators=40)</pre><b>In a Jupyter environment, please rerun this cell to show the HTML representation or trust the notebook. <br />On GitHub, the HTML representation is unable to render, please try loading this page with nbviewer.org.</b></div><div class=\"sk-container\" hidden><div class=\"sk-item sk-dashed-wrapped\"><div class=\"sk-label-container\"><div class=\"sk-label sk-toggleable\"><input class=\"sk-toggleable__control sk-hidden--visually\" id=\"sk-estimator-id-8\" type=\"checkbox\" ><label for=\"sk-estimator-id-8\" class=\"sk-toggleable__label sk-toggleable__label-arrow\">AdaBoostRegressor</label><div class=\"sk-toggleable__content\"><pre>AdaBoostRegressor(estimator=BaggingRegressor(estimator=SVR(C=1),\n",
              "                                             n_estimators=40, random_state=50),\n",
              "                  n_estimators=40)</pre></div></div></div><div class=\"sk-parallel\"><div class=\"sk-parallel-item\"><div class=\"sk-item\"><div class=\"sk-label-container\"><div class=\"sk-label sk-toggleable\"><input class=\"sk-toggleable__control sk-hidden--visually\" id=\"sk-estimator-id-9\" type=\"checkbox\" ><label for=\"sk-estimator-id-9\" class=\"sk-toggleable__label sk-toggleable__label-arrow\">estimator: BaggingRegressor</label><div class=\"sk-toggleable__content\"><pre>BaggingRegressor(estimator=SVR(C=1), n_estimators=40, random_state=50)</pre></div></div></div><div class=\"sk-serial\"><div class=\"sk-item sk-dashed-wrapped\"><div class=\"sk-parallel\"><div class=\"sk-parallel-item\"><div class=\"sk-item\"><div class=\"sk-label-container\"><div class=\"sk-label sk-toggleable\"><input class=\"sk-toggleable__control sk-hidden--visually\" id=\"sk-estimator-id-10\" type=\"checkbox\" ><label for=\"sk-estimator-id-10\" class=\"sk-toggleable__label sk-toggleable__label-arrow\">estimator: SVR</label><div class=\"sk-toggleable__content\"><pre>SVR(C=1)</pre></div></div></div><div class=\"sk-serial\"><div class=\"sk-item\"><div class=\"sk-estimator sk-toggleable\"><input class=\"sk-toggleable__control sk-hidden--visually\" id=\"sk-estimator-id-11\" type=\"checkbox\" ><label for=\"sk-estimator-id-11\" class=\"sk-toggleable__label sk-toggleable__label-arrow\">SVR</label><div class=\"sk-toggleable__content\"><pre>SVR(C=1)</pre></div></div></div></div></div></div></div></div></div></div></div></div></div></div></div>"
            ],
            "text/plain": [
              "AdaBoostRegressor(estimator=BaggingRegressor(estimator=SVR(C=1),\n",
              "                                             n_estimators=40, random_state=50),\n",
              "                  n_estimators=40)"
            ]
          },
          "execution_count": 34,
          "metadata": {},
          "output_type": "execute_result"
        }
      ],
      "source": [
        "from sklearn.ensemble import AdaBoostClassifier\n",
        "\n",
        "# Create an AdaBoost classifier with 40 base estimators\n",
        "boostingsvm = AdaBoostRegressor(estimator=baggingsvm, n_estimators=40)\n",
        "\n",
        "boostingsvm.fit(X_train, y_train)\n",
        "\n"
      ]
    },
    {
      "cell_type": "code",
      "execution_count": 35,
      "metadata": {},
      "outputs": [
        {
          "name": "stdout",
          "output_type": "stream",
          "text": [
            "-0.07718529117767625\n"
          ]
        }
      ],
      "source": [
        "# Append the model and score to their respective list\n",
        "print(baggingsvm.score(X_test,y_test))"
      ]
    },
    {
      "cell_type": "code",
      "execution_count": 36,
      "metadata": {
        "id": "pgLeVKVCSN6d"
      },
      "outputs": [],
      "source": [
        "y_pred = boostingsvm.predict(X_test)"
      ]
    },
    {
      "attachments": {},
      "cell_type": "markdown",
      "metadata": {
        "id": "WX-XxU8fb_iX"
      },
      "source": [
        "## Voting"
      ]
    },
    {
      "cell_type": "code",
      "execution_count": 37,
      "metadata": {
        "id": "J6tHrLzlcBTQ"
      },
      "outputs": [],
      "source": [
        "voting_regressor = VotingRegressor(estimators=[('boostingrf', boostingrf),('reg', reg), ('boostingdt', boostingdt)])\n",
        "voting_regressor.fit(X_train, y_train)\n",
        "y_pred = voting_regressor.predict(X_test)\n",
        "mse_voting = mean_squared_error(y_test, y_pred)"
      ]
    },
    {
      "cell_type": "code",
      "execution_count": 38,
      "metadata": {
        "id": "iuf9aWUQSN4D"
      },
      "outputs": [
        {
          "name": "stdout",
          "output_type": "stream",
          "text": [
            "0.6616975633463205\n"
          ]
        }
      ],
      "source": [
        "# Append the model and score to their respective list\n",
        "print(voting_regressor.score(X_test,y_test))"
      ]
    },
    {
      "attachments": {},
      "cell_type": "markdown",
      "metadata": {},
      "source": [
        "## Loading the Model"
      ]
    },
    {
      "cell_type": "code",
      "execution_count": 39,
      "metadata": {
        "id": "oA43pm28SN1k"
      },
      "outputs": [],
      "source": [
        "import pickle"
      ]
    },
    {
      "cell_type": "code",
      "execution_count": 40,
      "metadata": {
        "id": "5nR7IEy2SNyw"
      },
      "outputs": [],
      "source": [
        "# save the model as a file\n",
        "with open('model.pkl', 'wb') as file:\n",
        "    pickle.dump(boostingrf, file)"
      ]
    },
    {
      "cell_type": "code",
      "execution_count": 41,
      "metadata": {
        "id": "3pVJTRwmSNv_"
      },
      "outputs": [],
      "source": [
        "model = pickle.load(open('C:/Users/cyril/OneDrive/Pictures/SEM 6/assignment/Web Mining/Project/Works/model.pkl', 'rb'))"
      ]
    },
    {
      "attachments": {},
      "cell_type": "markdown",
      "metadata": {},
      "source": [
        "## Predicting the Output From The User Input"
      ]
    },
    {
      "attachments": {
        "image.png": {
          "image/png": "[encoded data removed]"
        }
      },
      "cell_type": "markdown",
      "metadata": {},
      "source": [
        "![image.png](attachment:image.png)"
      ]
    },
    {
      "cell_type": "code",
      "execution_count": 42,
      "metadata": {},
      "outputs": [],
      "source": [
        "from sklearn import preprocessing\n",
        "label_encoder = preprocessing.LabelEncoder()"
      ]
    },
    {
      "cell_type": "code",
      "execution_count": 43,
      "metadata": {},
      "outputs": [],
      "source": [
        "import numpy as np"
      ]
    },
    {
      "cell_type": "code",
      "execution_count": 52,
      "metadata": {},
      "outputs": [],
      "source": [
        "import pandas as pd\n",
        "\n",
        "# Load the dataset\n",
        "df1 = pd.read_csv(\"C:/Users/cyril/OneDrive/Pictures/SEM 6/assignment/Web Mining/Project/Works/movie_metadata.csv/movie_metadata.csv\")\n"
      ]
    },
    {
      "cell_type": "code",
      "execution_count": 53,
      "metadata": {},
      "outputs": [],
      "source": [
        "#numeric values \n",
        "\n",
        "data_numeric = df.select_dtypes(include=[np.number]) # type: ignore\n",
        "numeric_columns = data_numeric.columns.values\n",
        "\n",
        "#non-numeric values\n",
        "\n",
        "data_nonnumeric = df.select_dtypes(exclude=[np.number]) # type: ignore\n",
        "nonnumeric_columns = data_nonnumeric.columns.values"
      ]
    },
    {
      "cell_type": "code",
      "execution_count": 55,
      "metadata": {},
      "outputs": [],
      "source": [
        "#Clean remaining  Numerical columns\n",
        "\n",
        "for col in numeric_columns:\n",
        "    missing = df[col].isnull()\n",
        "    num_missing = np.sum(missing)\n",
        "    if num_missing>0:\n",
        "        mid = df[col].median()\n",
        "        df[col] = df[col].fillna(mid)"
      ]
    },
    {
      "cell_type": "code",
      "execution_count": 56,
      "metadata": {},
      "outputs": [],
      "source": [
        "#clean the remaining missing values in non-numeric columns\n",
        "\n",
        "for col in nonnumeric_columns:\n",
        "    missing1 = df[col].isnull()\n",
        "    num_missing1 = np.sum(missing1)\n",
        "    if num_missing1>0:\n",
        "        mod = df[col].describe()['top']\n",
        "        df[col] = df[col].fillna(mod) "
      ]
    },
    {
      "attachments": {},
      "cell_type": "markdown",
      "metadata": {},
      "source": [
        "### Encoding The String Values to Numericals"
      ]
    },
    {
      "cell_type": "code",
      "execution_count": 57,
      "metadata": {},
      "outputs": [],
      "source": [
        "df1['genres'] = label_encoder.fit_transform(df1['genres'])#Genre\n"
      ]
    },
    {
      "cell_type": "code",
      "execution_count": 58,
      "metadata": {},
      "outputs": [
        {
          "name": "stdout",
          "output_type": "stream",
          "text": [
            "['Action|Drama|Family|Sport']\n"
          ]
        },
        {
          "name": "stderr",
          "output_type": "stream",
          "text": [
            "c:\\Users\\cyril\\AppData\\Local\\Programs\\Python\\Python311\\Lib\\site-packages\\sklearn\\preprocessing\\_label.py:155: DataConversionWarning: A column-vector y was passed when a 1d array was expected. Please change the shape of y to (n_samples, ), for example using ravel().\n",
            "  y = column_or_1d(y, warn=True)\n"
          ]
        }
      ],
      "source": [
        "#To Show the Real value from the Encoded Value\n",
        "print(label_encoder.inverse_transform(np.array([222]).reshape(-1,1)))"
      ]
    },
    {
      "cell_type": "code",
      "execution_count": 59,
      "metadata": {},
      "outputs": [],
      "source": [
        "df1['language'] = label_encoder.fit_transform(df1[\"language\"])#language"
      ]
    },
    {
      "cell_type": "code",
      "execution_count": 60,
      "metadata": {},
      "outputs": [
        {
          "name": "stdout",
          "output_type": "stream",
          "text": [
            "['Japanese']\n"
          ]
        },
        {
          "name": "stderr",
          "output_type": "stream",
          "text": [
            "c:\\Users\\cyril\\AppData\\Local\\Programs\\Python\\Python311\\Lib\\site-packages\\sklearn\\preprocessing\\_label.py:155: DataConversionWarning: A column-vector y was passed when a 1d array was expected. Please change the shape of y to (n_samples, ), for example using ravel().\n",
            "  y = column_or_1d(y, warn=True)\n"
          ]
        }
      ],
      "source": [
        "#To Show the Real value from the Encoded Value\n",
        "print(label_encoder.inverse_transform(np.array([22]).reshape(-1,1)))"
      ]
    },
    {
      "attachments": {},
      "cell_type": "markdown",
      "metadata": {},
      "source": [
        "### Input"
      ]
    },
    {
      "cell_type": "code",
      "execution_count": 67,
      "metadata": {},
      "outputs": [],
      "source": [
        "\n",
        "director_facebook_likes =600\n",
        "actor_3_facebook_likes = 400\n",
        "actor_1_facebook_likes = 800\n",
        "genres = 222\n",
        "num_voted_users = 300\n",
        "cast_total_facebook_likes = 600\n",
        "num_user_for_reviews =700\n",
        "language =22\n",
        "budget = 64958235\n",
        "actor_2_facebook_likes = 500\n",
        "imdb_score = 7\n",
        "movie_facebook_likes = 500"
      ]
    },
    {
      "cell_type": "code",
      "execution_count": 68,
      "metadata": {},
      "outputs": [],
      "source": [
        "sample = np.array([ director_facebook_likes , actor_3_facebook_likes , actor_1_facebook_likes ,genres, num_voted_users , cast_total_facebook_likes ,num_user_for_reviews ,language ,budget ,actor_2_facebook_likes,imdb_score, movie_facebook_likes   ]).reshape(1, -1)"
      ]
    },
    {
      "attachments": {},
      "cell_type": "markdown",
      "metadata": {},
      "source": [
        "### Prediction"
      ]
    },
    {
      "cell_type": "code",
      "execution_count": 69,
      "metadata": {},
      "outputs": [
        {
          "name": "stderr",
          "output_type": "stream",
          "text": [
            "c:\\Users\\cyril\\AppData\\Local\\Programs\\Python\\Python311\\Lib\\site-packages\\sklearn\\base.py:420: UserWarning: X does not have valid feature names, but AdaBoostRegressor was fitted with feature names\n",
            "  warnings.warn(\n"
          ]
        }
      ],
      "source": [
        "y_pred = model.predict(sample)"
      ]
    },
    {
      "cell_type": "code",
      "execution_count": 70,
      "metadata": {},
      "outputs": [
        {
          "name": "stdout",
          "output_type": "stream",
          "text": [
            "[24582852.85549999]\n"
          ]
        }
      ],
      "source": [
        "print(y_pred)"
      ]
    }
  ],
  "metadata": {
    "colab": {
      "collapsed_sections": [
        "Jz3KfnJgQ_wh",
        "56-wMhLSRFDQ",
        "BPz9jeJARMq4",
        "B4NCJ4mkRP4J",
        "W11EuvT3RWAY",
        "kRfpGPsdRagY",
        "uAj2A425UgSa",
        "AE6KMeQ-Uh1Q",
        "dGUz-CLcRjE4",
        "I8P1SZc3UR8p",
        "THw4m57sRqnK",
        "6HncAsArUBDT",
        "of3-OSd2UG_V",
        "kEQVAcO2RwT_",
        "6VkC3URVItLn",
        "AadMj-tdJFH2",
        "kMhDr1AjR5Xg",
        "Ef_aXHHhSo4R",
        "WX-XxU8fb_iX",
        "sxjPh14AS1DP",
        "LwjFcuyySPOZ"
      ],
      "provenance": []
    },
    "gpuClass": "standard",
    "kernelspec": {
      "display_name": "Python 3",
      "language": "python",
      "name": "python3"
    },
    "language_info": {
      "codemirror_mode": {
        "name": "ipython",
        "version": 3
      },
      "file_extension": ".py",
      "mimetype": "text/x-python",
      "name": "python",
      "nbconvert_exporter": "python",
      "pygments_lexer": "ipython3",
      "version": "3.11.1"
    },
    "orig_nbformat": 4
  },
  "nbformat": 4,
  "nbformat_minor": 0
}
